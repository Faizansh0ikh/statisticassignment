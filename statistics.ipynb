{
 "cells": [
  {
   "cell_type": "code",
   "execution_count": 12,
   "id": "5b3ca664-3b86-4f74-ba3f-59812fdab17c",
   "metadata": {},
   "outputs": [],
   "source": [
    "# Q1. What is Statistics?"
   ]
  },
  {
   "cell_type": "raw",
   "id": "a54cb6a4-6a61-418e-bd87-5a4e5d675f27",
   "metadata": {},
   "source": [
    "statistics is a study of collection, analysis of data and presentation of this data for decision making."
   ]
  },
  {
   "cell_type": "raw",
   "id": "ceb2b2fe-4938-454a-8f93-aabfb7c21297",
   "metadata": {},
   "source": [
    "Q2. Define the different types of statistics and give an example of when each type might be used."
   ]
  },
  {
   "cell_type": "raw",
   "id": "4aeaff90-b08b-4e23-a2ff-8aad355576d6",
   "metadata": {},
   "source": [
    "\n",
    "\n",
    "Descriptive Statistics:\n",
    "Descriptive statistics involve summarizing and describing the main features of a dataset without making any inferences about a larger population.\n",
    "They provide a clear and concise representation of the data.\n",
    "\n",
    "Example: Calculating the mean, median, and standard deviation of test scores for a class of students.\n",
    "\n",
    "Inferential Statistics:\n",
    "Inferential statistics involve making inferences or predictions about a larger population based on a sample of data.\n",
    "These methods help us draw conclusions or make predictions beyond the data we have collected.\n",
    "\n",
    "Example: Conducting a poll to estimate the proportion of voters who support a particular candidate in a national election.\n",
    "By surveying a sample of voters, inferential statistics can be used to make an estimate about the entire voting population.\n",
    "\n"
   ]
  },
  {
   "cell_type": "markdown",
   "id": "3cc1870f-b6e6-45da-8ff6-328e9db0c7f4",
   "metadata": {},
   "source": [
    "Q3. What are the different types of data and how do they differ from each other? Provide an example of\n",
    "each type of data."
   ]
  },
  {
   "cell_type": "raw",
   "id": "4834f3cd-4f2e-4ce7-bdd8-176f6d8ff74d",
   "metadata": {},
   "source": [
    "there are two types of data : 1 quantitative 2 qualitative and each have two data types discret continuous and ordinary  and nominal\n",
    "\n",
    "quantitative are number data types  in quantitative discete are whole number while continuous are any number for example number of clothes sold by xyz company in 2020, example of countinuous markes get by \n",
    "different students.\n",
    "\n",
    "in qualitative nominal are those data type that don't have levels example colours all colors are equal no one is bigger or smaller to any other color, ordinary have levels or ranking example in market \n",
    "which fruit is fresh or which is less fresh or which is rotten fruit"
   ]
  },
  {
   "cell_type": "raw",
   "id": "33682f58-4df9-4c17-bd09-959f31956b96",
   "metadata": {},
   "source": [
    "Q4. Categorise the following datasets with respect to quantitative and qualitative data types:\n",
    "(i) Grading in exam: A+, A, B+, B, C+, C, D, E\n",
    "(ii) Colour of mangoes: yellow, green, orange, red\n",
    "(iii) Height data of a class: [178.9, 179, 179.5, 176, 177.2, 178.3, 175.8,...]\n",
    "(iv) Number of mangoes exported by a farm: [500, 600, 478, 672, ...]\n"
   ]
  },
  {
   "cell_type": "raw",
   "id": "c22db026-85dd-41d7-935f-ddf45a2e1bec",
   "metadata": {},
   "source": [
    "Quantitative\n",
    "(iii) Height data of a class: [178.9, 179, 179.5, 176, 177.2, 178.3, 175.8,...]\n",
    "(iv) Number of mangoes exported by a farm: [500, 600, 478, 672, ...]\n",
    "\n",
    "qualitative\n",
    "(i) Grading in exam: A+, A, B+, B, C+, C, D, E\n",
    "(ii) Colour of mangoes: yellow, green, orange, red"
   ]
  },
  {
   "cell_type": "raw",
   "id": "454333e9-85d8-4163-acf9-0a23a81a42c5",
   "metadata": {},
   "source": [
    "Q5. Explain the concept of levels of measurement and give an example of a variable for each level."
   ]
  },
  {
   "cell_type": "raw",
   "id": "11e07712-391b-4fc3-a284-3aeef24ba773",
   "metadata": {},
   "source": [
    "Nominal Level:\n",
    "   Nominal variables represent categories or labels with no inherent order or ranking. They are used for classification purposes.\n",
    "   \n",
    "   Example: Gender (categories: male, female, non-binary). The categories have no inherent order; they are just different labels.\n",
    " Ordinal Level:\n",
    "   Ordinal variables represent categories with a specific order or ranking. While the differences between categories might not be uniform or meaningful, there is a clear sense of \"more\" or \"less.\"\n",
    "   \n",
    "   Example: Education level (categories: high school, college, graduate school). The categories have a clear ranking, but the intervals between them might not be equal.\n",
    "\n",
    " Interval Level:\n",
    "   Interval variables have meaningful intervals between values, but the concept of zero is arbitrary. You can measure the difference between values, but you can't make meaningful statements about ratios.\n",
    "   \n",
    "   Example: Temperature in degrees Celsius. The difference between 20°C and 30°C is the same as the difference between 30°C and 40°C, but you can't say that 40°C is \"twice as hot\" as 20°C.\n",
    "\n",
    " Ratio Level:\n",
    "   Ratio variables have meaningful intervals between values and an absolute zero point, allowing for meaningful ratios between values.\n",
    "   \n",
    "   Example: Height in centimeters. A height of 180 cm is not only 20 cm taller than a height of 160 cm, but it also implies that the former is twice as tall as the latter.\n"
   ]
  },
  {
   "cell_type": "code",
   "execution_count": null,
   "id": "ad3a2b40-5a8b-4d45-933b-8ff92cfdf6ef",
   "metadata": {},
   "outputs": [],
   "source": [
    "# Q6. Why is it important to understand the level of measurement when analyzing data? Provide an\n",
    "# example to illustrate your answer. in single line"
   ]
  },
  {
   "cell_type": "raw",
   "id": "6d754e6b-77d6-4c6d-8c02-9fb3d6473c55",
   "metadata": {},
   "source": [
    "Understanding the level of measurement ensures appropriate selection of statistical methods, preventing erroneous analyses;\n",
    "e.g. using arithmetic mean on ordinal data can lead to incorrect conclusions."
   ]
  },
  {
   "cell_type": "raw",
   "id": "28b9a276-1858-4a83-8fd8-c2941b8d5c13",
   "metadata": {},
   "source": [
    "Q7. How nominal data type is different from ordinal data type."
   ]
  },
  {
   "cell_type": "raw",
   "id": "6928694a-430a-4882-8bd1-123a6fa9bb87",
   "metadata": {},
   "source": [
    "Nominal data consists of categories or labels without any inherent order,\n",
    "while ordinal data represents categories with a specific order or ranking where the differences between categories might not be uniform or meaningful."
   ]
  },
  {
   "cell_type": "markdown",
   "id": "247f2cd2-b7b1-43e7-bb2c-b086186c7a54",
   "metadata": {},
   "source": [
    "Q8. Which type of plot can be used to display data in terms of range?"
   ]
  },
  {
   "cell_type": "markdown",
   "id": "ff6e9be4-08cb-4ca4-a664-7ada264bd3ca",
   "metadata": {},
   "source": [
    "lineplot"
   ]
  },
  {
   "cell_type": "markdown",
   "id": "3ac796c9-aaa1-4d16-a3e3-4a5031bb79f1",
   "metadata": {},
   "source": [
    "Q9. Describe the difference between descriptive and inferential statistics. Give an example of each\n",
    "type of statistics and explain how they are used."
   ]
  },
  {
   "cell_type": "raw",
   "id": "07ae998c-4d27-4b1d-b917-162c9d88d19f",
   "metadata": {},
   "source": [
    "escriptive Statistics:\n",
    "Descriptive statistics involve summarizing and describing the main features of a dataset without making any inferences about a larger population.\n",
    "They provide a clear and concise representation of the data.\n",
    "\n",
    "Example: Calculating the mean, median, and standard deviation of test scores for a class of students.\n",
    "\n",
    "Inferential Statistics:\n",
    "Inferential statistics involve making inferences or predictions about a larger population based on a sample of data.\n",
    "These methods help us draw conclusions or make predictions beyond the data we have collected.\n",
    "\n",
    "Example: Conducting a poll to estimate the proportion of voters who support a particular candidate in a national election.\n",
    "By surveying a sample of voters, inferential statistics can be used to make an estimate about the entire voting population.\n"
   ]
  }
 ],
 "metadata": {
  "kernelspec": {
   "display_name": "Python 3 (ipykernel)",
   "language": "python",
   "name": "python3"
  },
  "language_info": {
   "codemirror_mode": {
    "name": "ipython",
    "version": 3
   },
   "file_extension": ".py",
   "mimetype": "text/x-python",
   "name": "python",
   "nbconvert_exporter": "python",
   "pygments_lexer": "ipython3",
   "version": "3.10.8"
  }
 },
 "nbformat": 4,
 "nbformat_minor": 5
}
